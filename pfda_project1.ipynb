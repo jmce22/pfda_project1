{
 "cells": [
  {
   "cell_type": "markdown",
   "metadata": {},
   "source": [
    "## Programming for Data Analysis - Project 1 ##\n",
    "\n",
    "**Name: James McEneaney** <br/><br/>\n",
    "**Course: Higher Diploma in Computing in Data Analytics, ATU Ireland** <br/><br/> \n",
    "**Semester: Semester 2 2023** <br/><br/>\n",
    "\n",
    "\n",
    "***"
   ]
  },
  {
   "cell_type": "markdown",
   "metadata": {},
   "source": [
    "### Introduction ###\n",
    "\n",
    "This project sets out to simulate traffic levels between junctions 6 and 7 on the m50, based on an analysis of four weeks of traffic data taken during the month of October 2023. I will seek to establish how traffic levels are related to whether the day is a weekday or weekend, how traffic is distributed on average over a 24 hour period, and how the distribution of Northbound traffic compares with that of Southbound traffic. I also wish to investigate whether a relationship exists between local air temperature and the volume of traffic.\n",
    "\n",
    "The main purpose of this project, however, is to create synthetic datasets of the variables we have selected, and to have them match as closely as possible the data as it exists in the real world.\n",
    "\n",
    "<img src=\"https://upload.wikimedia.org/wikipedia/commons/thumb/0/09/M50_looking_north_at_Castleknock_flyover.jpg/3264px-M50_looking_north_at_Castleknock_flyover.jpg\" alt=\"Junction 6 M50 Northbound\" width=\"600\" height=\"400\">\n",
    "\n",
    "To obtain traffic data, I downloaded the monthly volume report for this traffic for October 2023 from the Transport Infrastructure Ireland \n",
    "site https://trafficdata.tii.ie/calendar_alt.asp?sgid=XZOA8M4LR27P0HAO3_SRSB&spid=130DE8EB2080. I used the data for Southbound and Northbound traffic volumes for the 4-week period from Monday 2nd October to Sunday 29th October. Traffic here refers to all kinds of vehicles - cars, lorries, caravans, buses, motorbikes and vans, but, for the period analysed, cars made up roughly 77% of the total traffic, with vans accounting for a further 13%.\n",
    "https://trafficdata.tii.ie/tfreport.asp?sgid=XzOA8m4lr27P0HaO3_srSB&spid=130DE8EB2080&reportdate=2023-10-02&enddate=2023-10-29&dimtype=2\n",
    "\n",
    "To investigate the relationship of local air temperature with traffic levels, I used hourly data for air temperature for the nearby Phoenix Park weather station, for the period 2nd October to 29th October inclusive. https://data.gov.ie/dataset/phoenix-park-hourly-data \n",
    "\n",
    "I manually compiled the data I wanted to use from both source files into a CSV file which I saved into my repository for this project. I also created a column called \"day_type\" to allow me to split my sample by weekday and weekends, as I was curious to test how traffic levels were distributed according to that variable. In addition to this compiled CSV file, I have saved the raw source data files into my repository for reference.\n",
    "\n",
    "This project is of interest to me as I currently travel on the m50 to work five days per month (Southbound in the morning, Northbound in the evening), and having a better understanding of how traffic levels are distributed on the m50 might help me to plan my commute better. I chose to analyse the area between junctions 6 and 7 as it strikes me as a busy area of the m50 during my commute. I am also curious to test what impact changes in a weather variable, such as air temperature, might have on other peoples' behavior, with regard to their decision to drive.\n",
    "\n",
    "Before setting out my project, I should caveat my findings by emphasising that the distributions of traffic I measured are taken from October 2023 only and that the long run distributions for traffic levels are likely to deviate over time from those I measured (eg. due to holiday periods or events like very bad weather or the recent pandemic). Therefore, my simulated datasets for traffic levels are likely to deviate in the long run from the distributions that exist in the real world. Nevertheless, I feel this is an interesting dataset to practice "
   ]
  },
  {
   "cell_type": "markdown",
   "metadata": {},
   "source": [
    "### Table of contents ###\n",
    "* [Introduction](#introduction)\n",
    "* [Pre-analysis](#pre-analysis)\n",
    "* [Summary of variables in dataset](#summary-of-variables-in-dataset)\n",
    "* [Distribution of traffic data](#distribution-of-traffic-data)\n",
    "    * [Southbound traffic over one day (Monday Week 1)](#southbound-traffic-over-one-day-(monday-week-1))\n",
    "    * [Average hourly Southbound traffic over each Monday](#average-hourly-southbound-traffic-over-each-monday)\n",
    "    * [Average hourly Northbound traffic over each Monday](#average-hourly-northbound-traffic-over-each-monday)\n",
    "    * [Average hourly Southbound and Northbound traffic for other weekdays](#average-hourly-southbound-and-northbound-traffic-for-other-weekdays)\n",
    "    * [Average hourly Southbound and Northbound traffic for weekends](#average-hourly-southbound-and-northbound-traffic-for-weekends)\n",
    "    * [Average busiest times and traffic volumes by day and direction](#average-busiest-times-and-traffic-volumes-by-day-and-direction)\n",
    "    * [Standard deviations of hourly traffic data](#standard-deviations-of-hourly-traffic-data)\n",
    "    * [Summary of traffic distribution](#summary-of-traffic-distribution)\n",
    "* [Distribution of Air Temperature data](#distribution-of-air-temperature-data)\n",
    "    * [All temperature data](#all-temperature-data)\n",
    "    * [Temperature variation over 24 hours - examples of individual days](#temperature-variation-over-24-hours-examples-of-individual-days)\n",
    "    * [Average temperature for each hour over 4 week sample period](#average-temperature-for-each-hour-over-4-week-sample-period)\n",
    "    * [Summary of Air Temperature data distribution](#summary-of-air-temperature-data-distribution)\n",
    "    * [Standard deviations of hourly air temperature data](#standard-deviations-of-hourly-air-temperature-data)\n",
    "* [Correlation and Regression analyses](#correlation-and-regression-analyses)\n",
    "    * [Correlations between Southbound and Northbound traffic](#correlations-between-southbound-and-northbound-traffic)\n",
    "    * [Correlations between traffic levels and Air Temperature](#correlations-between-traffic-levels-and-air-temperature)\n",
    "    * [Regression equation](#regression-equation)\n",
    "    * [Side-by-side comparison of distributions](#side-by-side-comparison-of-distributions)\n",
    "* [Synthesising datasets](#synthesising-datasets)\n",
    "    * [Synthetic datasets of traffic data](#synthetic-datasets-of-traffic-data)\n",
    "    * [Synthetic dataset of air temperature data](#synthetic-dataset-of-air-temperature-data)\n",
    "    * [Correlation and regression analyses of synthetic datasets](#correlation-and-regression-analyses-of-synthetic-datasets)\n",
    "* [Summary](#summary)\n",
    "* [References](#references)"
   ]
  },
  {
   "cell_type": "markdown",
   "metadata": {},
   "source": [
    "### Pre-analysis ###\n",
    "Firstly, I will import libraries which I will use to complete the project:"
   ]
  },
  {
   "cell_type": "code",
   "execution_count": 365,
   "metadata": {},
   "outputs": [],
   "source": [
    "import matplotlib.pyplot as plt\n",
    "import numpy as np\n",
    "import pandas as pd\n",
    "import seaborn as sns\n",
    "import scipy.stats as ss "
   ]
  },
  {
   "cell_type": "markdown",
   "metadata": {},
   "source": [
    "Next, I will load up the dataset I will use for the project. This consists of real-world traffic and weather data amalgamated into a single CSV file:"
   ]
  },
  {
   "cell_type": "code",
   "execution_count": 364,
   "metadata": {},
   "outputs": [
    {
     "name": "stdout",
     "output_type": "stream",
     "text": [
      "     week  hour  day day_type  southbound  northbound  temp\n",
      "0       1     0  Mon  weekday         812         461  10.2\n",
      "1       1     1  Mon  weekday         515         266   9.8\n",
      "2       1     2  Mon  weekday         410         283   9.5\n",
      "3       1     3  Mon  weekday         311         546   9.4\n",
      "4       1     4  Mon  weekday         629        1018   9.4\n",
      "..    ...   ...  ...      ...         ...         ...   ...\n",
      "667     4    19  Sun  weekend        2889        2676   7.3\n",
      "668     4    20  Sun  weekend        2172        2004   6.8\n",
      "669     4    21  Sun  weekend        1490        1540   6.2\n",
      "670     4    22  Sun  weekend        1582        1138   6.2\n",
      "671     4    23  Sun  weekend        1192         845   6.1\n",
      "\n",
      "[672 rows x 7 columns]\n"
     ]
    }
   ],
   "source": [
    "df = pd.read_csv(\"J6_traffic_temp_hourly.csv\")\n",
    "\n",
    "# Here I am labelling the contents of the 'day' column as categorical variables (rather than object variables) \n",
    "# and ordering the contents from Monday to Sunday to override the default of alphabetical sorting of days which \n",
    "# I encountered when I tried to output the mean data for 7 am traffic on each day of the week using the groupby function.\n",
    "# I decided to leave out that investigation but I will retain this ordering of categories in case I need it elsewhere\n",
    "df['day'] = pd.Categorical(df['day'], categories=['Mon', 'Tues', 'Wed', 'Thurs', 'Fri', 'Sat', 'Sun'], ordered=True)\n",
    "\n",
    "print(df)"
   ]
  },
  {
   "cell_type": "markdown",
   "metadata": {},
   "source": [
    "### Summary of variables in dataset ###\n",
    "From above, we can see there are 672 rows of data; 24 rows for each day and 28 days worth of data.\n",
    "\n",
    "The dataset I have compiled contains seven different variables; four of these relate to the measurement of time, two relate to the measurement of traffic, and one relates to the measurement of air temperature.\n",
    "\n",
    "We can see the data-types for the different variables by using the .dtypes() function:\n",
    "\n"
   ]
  },
  {
   "cell_type": "code",
   "execution_count": null,
   "metadata": {},
   "outputs": [],
   "source": [
    "print(df.dtypes)"
   ]
  },
  {
   "cell_type": "markdown",
   "metadata": {},
   "source": [
    "- week: This is a **discrete integer** variable which I created to represent an interval of time and to make it easier to manipulate data pertaining to dates. It also allowed me to compare data for consecutive weeks with each other and to obtain averages across four weeks.\n",
    "- hour: This is a **discrete integer** variable which I created to represent an interval of time. This made it easier to manipulate the data and represent it in plots, since I needed to fit 24 data points on the x-axis of many of my plots.\n",
    "- day: This is a **categorical** variable, consisting of the seven days of the week and each day occuring with equal frequency. While working through the project, I decided to label this variable as \"categorical\" rather than \"object\", as I wanted to be able to order the output of certain functions involving the 'day' variable according to conventional ordering of days from Monday to Sunday; when categorised as \"object\", my output was ordering itself alphabetically.\n",
    "- day_type: This is an **object** variable, taking either the value \"weekday\" or \"weekend\" with a ratio of 5:2, depending on the day of the week the data in the row relates to.\n",
    "- southbound: This is a **discrete integer** variable representing the number of vehicles (ie. cars plus other vehicle types) recorded by the Transport Infrastructure Ireland website to have passed southbound through the four lanes of Junction 6 on the m50 Motorway in Dublin during the period Monday 2nd October to Sunday 29th October inclusive.\n",
    "- northbound: This is a **discrete integer** variable like southbound, but captures the levels of traffic passing Northbound through the four lanes of Junction 6 on the m50 rather than Southbound.\n",
    "- temp: This is a **floating point** variable representing the air temperature measured at Phoenix Park weather station on an hourly basis between Monday 2nd October inclusive. Temperature measured in degrees Celsius is an interval variable ie. one whose scale has an arbitrary zero point (in contrast to a ratio variable which has a zero-point that has a basis in the real world.)\n",
    "\n",
    "The most interesting distributions here are those of the southbound traffic, northbound traffic and the distribution of aire temperature, and I will investigate the distributions of these variables below:"
   ]
  },
  {
   "cell_type": "markdown",
   "metadata": {},
   "source": [
    "### Distribution of Southbound and Northbound traffic data ###\n",
    "#### Southbound traffic over one day (Monday Week 1) ####"
   ]
  },
  {
   "cell_type": "markdown",
   "metadata": {},
   "source": [
    "I will begin getting a sense of what this dataset represents by plotting the levels of southbound traffic over **one day** in the dataset: Monday of Week 1. "
   ]
  },
  {
   "cell_type": "code",
   "execution_count": 363,
   "metadata": {},
   "outputs": [
    {
     "data": {
      "image/png": "[encoded data removed]",
      "text/plain": [
       "<Figure size 800x450 with 1 Axes>"
      ]
     },
     "metadata": {},
     "output_type": "display_data"
    }
   ],
   "source": [
    "# Here I am filtering my main dataframe to create a smaller dataframe, containing only the 24 rows where the day is Monday\n",
    "# and the week is Week 1.\n",
    "monday_wk1 = df.loc[(df['day'] == 'Mon') & (df['week'] == 1)]\n",
    "\n",
    "plt.figure(figsize=(8, 4.5))\n",
    "plt.plot(monday_wk1['hour'], monday_wk1['southbound'])\n",
    "plt.xlabel('Hour of Day x:00 hrs')\n",
    "plt.xticks(np.arange(24))      # separate x-axis into intervals of 1 hour rather than default interval of 5 hours\n",
    "plt.ylabel('Number of Vehicles during hour')\n",
    "plt.title('Monday Week 1 (October) - Southbound traffic passing through Junction 6 on M50')\n",
    "plt.show()\n"
   ]
  },
  {
   "cell_type": "markdown",
   "metadata": {},
   "source": [
    "The distribution appears as we might expect it to be for a Monday; the largest volumes of traffic occur between 6 and 9 am, and between 3 and 6 pm, when commuters are travelling to and from work and students are travelling to and from school.\n",
    "\n",
    "To get a better sense of what Southbound traffic levels might be like on a typical Monday, we can create a plot of the average volume of traffic during each hour of Monday, calculated over the four Mondays of the sample dataset:"
   ]
  },
  {
   "cell_type": "markdown",
   "metadata": {},
   "source": [
    "#### Average hourly Southbound traffic over each Monday ####"
   ]
  },
  {
   "cell_type": "code",
   "execution_count": null,
   "metadata": {},
   "outputs": [],
   "source": [
    "# First we create a dataframe consisting only of rows where the data in the 'day' column is 'Mon'.\n",
    "\n",
    "monday = df.loc[df['day'] == 'Mon']\n",
    "\n",
    "print(monday)\n",
    "\n",
    "# Next we use the groupby() function on this 'monday' dataframe to seperate the data by the contents of the 'hour' column. \n",
    "# This creates 24 groups of data from the 'monday' dataframe, with each group having 4 rows corresponding to the 4 weeks sampled.\n",
    "# We then use the .mean method on the 'southbound' column within each of these groups to calculate the mean value (over 4 weeks)\n",
    "# for southbound traffic for each hour of each day.\n",
    "\n",
    "# Note: The output of this function is a floating point variable. As the aim of this project is to simulate a dataset, rather than \n",
    "# produce true-to-reality plots of already existing datasets, I am content to not round these figure to whole numbers of vehicles \n",
    "# and instead leave the output of the mean() function as numerically accurate as possible for now.\n",
    "\n",
    "mean_mon_s_hourly = monday.groupby('hour')['southbound'].mean()\n",
    "\n",
    "print()\n",
    "print('The average figure for southbound traffic passing through Junction 6 during each hour on a Monday is: ')\n",
    "print(mean_mon_s_hourly)"
   ]
  },
  {
   "cell_type": "markdown",
   "metadata": {},
   "source": [
    "Next, we can work out which hour of Monday has the highest average traffic level over the four weeks, and what that traffic level is. We can use the fact the indices of the output of mean_mon_s_hourly have the same numeric value as the hours which they relate to (eg. index [7] relates to the hour beginning at 7:00)."
   ]
  },
  {
   "cell_type": "code",
   "execution_count": null,
   "metadata": {},
   "outputs": [],
   "source": [
    "# here the idxmax() method allows us to pick out which row among the 24 rows of average hourly southbound traffic data\n",
    "# has the highest figure, and the max() method tells us what that figure is\n",
    "\n",
    "max_row_mon_s_hourly = mean_mon_s_hourly.idxmax()\n",
    "max_value_mon_s_hourly = mean_mon_s_hourly.max()\n",
    "print(f'The maximum average hourly figure for Southbound traffic on Mondays is {max_value_mon_s_hourly} and this occurs during the hour starting at {max_row_mon_s_hourly}:00')"
   ]
  },
  {
   "cell_type": "markdown",
   "metadata": {},
   "source": [
    "Next, we can plot this average hourly traffic for Southbound traffic measured over four consecutive Mondays in October:"
   ]
  },
  {
   "cell_type": "code",
   "execution_count": null,
   "metadata": {},
   "outputs": [],
   "source": [
    "plt.figure(figsize=(8,4.5))   \n",
    "plt.plot(mean_mon_s_hourly)\n",
    "plt.xlabel('Hour beginning with x:00')\n",
    "plt.xticks(np.arange(24))      # seperate x-axis into 24 intervals rather than 5\n",
    "plt.ylabel('Number of Vehicles during hour')\n",
    "plt.title('Mean hourly Southbound traffic passing through Junction 6 on Mondays')\n",
    "plt.show()"
   ]
  },
  {
   "cell_type": "markdown",
   "metadata": {},
   "source": [
    "#### Average hourly Northbound traffic over each Monday ####\n",
    "Next, we can calculate the same kind of data for Northbound traffic over the four Mondays sampled for October:"
   ]
  },
  {
   "cell_type": "code",
   "execution_count": null,
   "metadata": {},
   "outputs": [],
   "source": [
    "mean_mon_n_hourly = monday.groupby('hour')['northbound'].mean()\n",
    "\n",
    "print()\n",
    "print('The average figure for Northbound traffic passing through Junction 6 during each hour on a Monday is: ')\n",
    "print(mean_mon_n_hourly)\n",
    "\n",
    "max_row_mon_n_hourly = mean_mon_n_hourly.idxmax()\n",
    "max_value_mon_n_hourly = mean_mon_n_hourly.max()\n",
    "print()\n",
    "print()\n",
    "print(f'The maximum average hourly figure for Northbound traffic on Mondays is {max_value_mon_n_hourly} and this occurs during the hour starting at {max_row_mon_n_hourly}:00.')"
   ]
  },
  {
   "cell_type": "markdown",
   "metadata": {},
   "source": [
    "I will now create a plot of the average hourly Northbound traffic for Mondays, laying it over the plot for average hourly Southbound traffic to allow for an easier comparison:"
   ]
  },
  {
   "cell_type": "code",
   "execution_count": null,
   "metadata": {},
   "outputs": [],
   "source": [
    "plt.figure(figsize=(8,4.5))\n",
    "plt.plot(mean_mon_s_hourly, label = 'Southbound')\n",
    "plt.plot(mean_mon_n_hourly, label = 'Northbound')\n",
    "plt.xlabel('Hour beginning with x:00')\n",
    "plt.xticks(np.arange(24))     \n",
    "plt.ylabel('Number of Vehicles during hour')\n",
    "plt.title('Mean hourly traffic passing through Junction 6 on Mondays')\n",
    "plt.legend([\"Southbound\", \"Northbound\"], loc =\"upper right\")\n",
    "plt.show()"
   ]
  },
  {
   "cell_type": "markdown",
   "metadata": {},
   "source": [
    "This graph gives us a sense of which hours are the busiest and least busy on a Monday, and also show how similar traffic levels are in each direction during any given hour. "
   ]
  },
  {
   "cell_type": "markdown",
   "metadata": {},
   "source": [
    "#### Average hourly Southbound and Northbound traffic for other weekdays ####\n",
    "To get a sense of how average traffic levels look for each other **weekday** we can plot similar graphs as the one above:"
   ]
  },
  {
   "cell_type": "code",
   "execution_count": null,
   "metadata": {},
   "outputs": [],
   "source": [
    "tuesday = df.loc[df['day'] == 'Tues']\n",
    "wednesday = df.loc[df['day'] == 'Wed']\n",
    "thursday = df.loc[df['day'] == 'Thurs']\n",
    "friday = df.loc[df['day'] == 'Fri']\n",
    "\n",
    "mean_tues_s_hourly = tuesday.groupby('hour')['southbound'].mean()\n",
    "mean_wed_s_hourly = wednesday.groupby('hour')['southbound'].mean()\n",
    "mean_thurs_s_hourly = thursday.groupby('hour')['southbound'].mean()\n",
    "mean_fri_s_hourly = friday.groupby('hour')['southbound'].mean()\n",
    "\n",
    "mean_tues_n_hourly = tuesday.groupby('hour')['northbound'].mean()\n",
    "mean_wed_n_hourly = wednesday.groupby('hour')['northbound'].mean()\n",
    "mean_thurs_n_hourly = thursday.groupby('hour')['northbound'].mean()\n",
    "mean_fri_n_hourly = friday.groupby('hour')['northbound'].mean()\n",
    "\n",
    "\n",
    "plt.figure(figsize=(8,4.5))\n",
    "plt.plot(mean_tues_s_hourly, label = 'Southbound', color = 'blue')\n",
    "plt.plot(mean_tues_n_hourly, label = 'Northbound', color = 'orange')\n",
    "plt.xlabel('Hour beginning with x:00')\n",
    "plt.xticks(np.arange(24))      \n",
    "plt.ylabel('Number of Vehicles during hour')\n",
    "plt.title('Mean hourly traffic passing through Junction 6 on Tuesdays')\n",
    "plt.legend([\"Southbound\", \"Northbound\"], loc =\"upper right\")\n",
    "plt.show()\n",
    "\n",
    "plt.figure(figsize=(8,4.5))\n",
    "plt.plot(mean_wed_s_hourly, label = 'Southbound', color = 'blue')\n",
    "plt.plot(mean_wed_n_hourly, label = 'Northbound', color = 'orange')\n",
    "plt.xlabel('Hour beginning with x:00')\n",
    "plt.xticks(np.arange(24))     \n",
    "plt.ylabel('Number of Vehicles during hour')\n",
    "plt.title('Mean hourly traffic passing through Junction 6 on Wednesdays')\n",
    "plt.legend([\"Southbound\", \"Northbound\"], loc =\"upper right\")\n",
    "plt.show()\n",
    "\n",
    "plt.figure(figsize=(8,4.5))\n",
    "plt.plot(mean_thurs_s_hourly, label = 'Southbound', color = 'blue')\n",
    "plt.plot(mean_thurs_n_hourly, label = 'Northbound', color = 'orange')\n",
    "plt.xlabel('Hour beginning with x:00')\n",
    "plt.xticks(np.arange(24))    \n",
    "plt.ylabel('Number of Vehicles during hour')\n",
    "plt.title('Mean hourly traffic passing through Junction 6 on Thursdays')\n",
    "plt.legend([\"Southbound\", \"Northbound\"], loc =\"upper right\")\n",
    "plt.show()\n",
    "\n",
    "plt.figure(figsize=(8,4.5))\n",
    "plt.plot(mean_fri_s_hourly, label = 'Southbound', color = 'blue')\n",
    "plt.plot(mean_fri_n_hourly, label = 'Northbound', color = 'orange')\n",
    "plt.xlabel('Hour beginning with x:00')\n",
    "plt.xticks(np.arange(24))    \n",
    "plt.ylabel('Number of Vehicles during hour')\n",
    "plt.title('Mean hourly traffic passing through Junction 6 on Fridays')\n",
    "plt.legend([\"Southbound\", \"Northbound\"], loc =\"upper right\")\n",
    "plt.show()\n",
    "\n"
   ]
  },
  {
   "cell_type": "markdown",
   "metadata": {},
   "source": [
    "#### Average hourly Southbound and Northbound traffic for weekends ####\n",
    "The distributions of hourly traffic for the two **weekend** days are as below:"
   ]
  },
  {
   "cell_type": "code",
   "execution_count": null,
   "metadata": {},
   "outputs": [],
   "source": [
    "saturday = df.loc[df['day'] == 'Sat']\n",
    "sunday = df.loc[df['day'] == 'Sun']\n",
    "\n",
    "mean_sat_s_hourly = saturday.groupby('hour')['southbound'].mean()\n",
    "mean_sun_s_hourly = sunday.groupby('hour')['southbound'].mean()\n",
    "\n",
    "mean_sat_n_hourly = saturday.groupby('hour')['northbound'].mean()\n",
    "mean_sun_n_hourly = sunday.groupby('hour')['northbound'].mean()\n",
    "\n",
    "\n",
    "plt.figure(figsize=(8,4.5))\n",
    "plt.plot(mean_sat_s_hourly, label = 'Southbound', color = 'blue')\n",
    "plt.plot(mean_sat_n_hourly, label = 'Northbound', color = 'orange')\n",
    "plt.xlabel('Hour beginning with x:00')\n",
    "plt.xticks(np.arange(24))     \n",
    "plt.ylabel('Number of Vehicles during hour')\n",
    "plt.title('Mean hourly traffic passing through Junction 6 on Saturdays')\n",
    "plt.legend([\"Southbound\", \"Northbound\"], loc =\"upper right\")\n",
    "plt.show()\n",
    "\n",
    "plt.figure(figsize=(8,4.5))\n",
    "plt.plot(mean_sun_s_hourly, label = 'Southbound', color = 'blue')\n",
    "plt.plot(mean_sun_n_hourly, label = 'Northbound', color = 'orange')\n",
    "plt.xlabel('Hour beginning with x:00')\n",
    "plt.xticks(np.arange(24))     \n",
    "plt.ylabel('Number of Vehicles during hour')\n",
    "plt.title('Mean hourly traffic passing through Junction 6 on Sundays')\n",
    "plt.legend([\"Southbound\", \"Northbound\"], loc =\"upper right\")\n",
    "plt.show()"
   ]
  },
  {
   "cell_type": "markdown",
   "metadata": {},
   "source": [
    "#### Plots for overall average Weekday and Weekend traffic ###"
   ]
  },
  {
   "cell_type": "code",
   "execution_count": null,
   "metadata": {},
   "outputs": [],
   "source": [
    "weekday = df.loc[df['day_type'] == 'weekday']\n",
    "weekend = df.loc[df['day_type'] == 'weekend']\n",
    "\n",
    "mean_weekday_s_hourly = weekday.groupby('hour')['southbound'].mean() \n",
    "mean_weekend_s_hourly = weekend.groupby('hour')['southbound'].mean()\n",
    "mean_weekday_n_hourly = weekday.groupby('hour')['northbound'].mean() \n",
    "mean_weekend_n_hourly = weekend.groupby('hour')['northbound'].mean() \n",
    "\n",
    "print(mean_weekday_s_hourly)\n",
    "\n",
    "plt.figure(figsize=(8,4.5))\n",
    "plt.plot(mean_weekday_s_hourly, label = 'Southbound', color = 'blue')\n",
    "plt.plot(mean_weekday_n_hourly, label = 'Northbound', color = 'orange')\n",
    "plt.xlabel('Hour beginning with x:00')\n",
    "plt.xticks(np.arange(24))     \n",
    "plt.ylabel('Number of Vehicles during hour')\n",
    "plt.title('Mean hourly traffic passing through Junction 6 on Weekdays')\n",
    "plt.legend([\"Southbound\", \"Northbound\"], loc =\"upper right\")\n",
    "plt.show()\n",
    "\n",
    "plt.figure(figsize=(8,4.5))\n",
    "plt.plot(mean_weekend_s_hourly, label = 'Southbound', color = 'blue')\n",
    "plt.plot(mean_weekend_n_hourly, label = 'Northbound', color = 'orange')\n",
    "plt.xlabel('Hour beginning with x:00')\n",
    "plt.xticks(np.arange(24))     \n",
    "plt.ylabel('Number of Vehicles during hour')\n",
    "plt.title('Mean hourly traffic passing through Junction 6 on Weekends')\n",
    "plt.legend([\"Southbound\", \"Northbound\"], loc =\"upper right\")\n",
    "plt.show()\n",
    "\n"
   ]
  },
  {
   "cell_type": "markdown",
   "metadata": {},
   "source": [
    "#### Average busiest times and traffic volumes by day and direction ####\n",
    "As we did above for Monday's hourly data, we can get a sense of which hour is the busiest on average for each other day using the .max and .idxmax methods on the mean hourly data:"
   ]
  },
  {
   "cell_type": "code",
   "execution_count": null,
   "metadata": {},
   "outputs": [],
   "source": [
    "max_row_tues_s_hourly = mean_tues_s_hourly.idxmax()\n",
    "max_value_tues_s_hourly = mean_tues_s_hourly.max()\n",
    "\n",
    "max_row_tues_n_hourly = mean_tues_n_hourly.idxmax()\n",
    "max_value_tues_n_hourly = mean_tues_n_hourly.max()\n",
    "\n",
    "max_row_wed_s_hourly = mean_wed_s_hourly.idxmax()\n",
    "max_value_wed_s_hourly = mean_wed_s_hourly.max()\n",
    "\n",
    "max_row_wed_n_hourly = mean_wed_n_hourly.idxmax()\n",
    "max_value_wed_n_hourly = mean_wed_n_hourly.max()\n",
    "\n",
    "max_row_thurs_s_hourly = mean_thurs_s_hourly.idxmax()\n",
    "max_value_thurs_s_hourly = mean_thurs_s_hourly.max()\n",
    "\n",
    "max_row_thurs_n_hourly = mean_thurs_n_hourly.idxmax()\n",
    "max_value_thurs_n_hourly = mean_thurs_n_hourly.max()\n",
    "\n",
    "max_row_fri_s_hourly = mean_fri_s_hourly.idxmax()\n",
    "max_value_fri_s_hourly = mean_fri_s_hourly.max()\n",
    "\n",
    "max_row_fri_n_hourly = mean_fri_n_hourly.idxmax()\n",
    "max_value_fri_n_hourly = mean_fri_n_hourly.max()\n",
    "\n",
    "max_row_sat_s_hourly = mean_sat_s_hourly.idxmax()\n",
    "max_value_sat_s_hourly = mean_sat_s_hourly.max()\n",
    "\n",
    "max_row_sat_n_hourly = mean_sat_n_hourly.idxmax()\n",
    "max_value_sat_n_hourly = mean_sat_n_hourly.max()\n",
    "\n",
    "max_row_sun_s_hourly = mean_sun_s_hourly.idxmax()\n",
    "max_value_sun_s_hourly = mean_sun_s_hourly.max()\n",
    "\n",
    "max_row_sun_n_hourly = mean_sun_n_hourly.idxmax()\n",
    "max_value_sun_n_hourly = mean_sun_n_hourly.max()\n",
    "\n",
    "print(f'The maximum average hourly figure for Southbound traffic for each day and the hour this is expected to occur are as below:')\n",
    "print(f'Tuesday:   {max_value_tues_s_hourly} at  {max_row_tues_s_hourly}:00')\n",
    "print(f'Wednesday: {max_value_wed_s_hourly} at  {max_row_wed_s_hourly}:00')\n",
    "print(f'Thursday:  {max_value_thurs_s_hourly} at  {max_row_thurs_s_hourly}:00')\n",
    "print(f'Friday:    {max_value_fri_s_hourly}  at  {max_row_fri_s_hourly}:00')\n",
    "print(f'Saturday:  {max_value_sat_s_hourly} at  {max_row_sat_s_hourly}:00')\n",
    "print(f'Sunday:    {max_value_sun_s_hourly}  at  {max_row_sun_s_hourly}:00')\n",
    "\n",
    "print()\n",
    "\n",
    "print(f'The maximum average hourly figure for Northbound traffic for each day and the hour this is expected to occur are as below:')\n",
    "print(f'Tuesday:   {max_value_tues_n_hourly}  at  {max_row_tues_n_hourly}:00')\n",
    "print(f'Wednesday: {max_value_wed_n_hourly} at  {max_row_wed_n_hourly}:00')\n",
    "print(f'Thursday:  {max_value_thurs_n_hourly} at  {max_row_thurs_n_hourly}:00')\n",
    "print(f'Friday:    {max_value_fri_n_hourly} at  {max_row_fri_n_hourly}:00')\n",
    "print(f'Saturday:  {max_value_sat_n_hourly}  at  {max_row_sat_n_hourly}:00')\n",
    "print(f'Sunday:    {max_value_sun_n_hourly}  at  {max_row_sun_n_hourly}:00')\n"
   ]
  },
  {
   "cell_type": "markdown",
   "metadata": {},
   "source": [
    "#### Standard deviations of hourly traffic data ####\n",
    "\n",
    "We can calculate the extent to which traffic data varied for each hour of the week, measured relative to the mean figures for each hour of the week. This generates floating point numbers which I will not round up, as I want the figures for standard deviation to be as accurate as possible when using them to simulate my datasets further on. To begin, I will calculate the standard deviations for Monday's hourly Southbound traffic."
   ]
  },
  {
   "cell_type": "code",
   "execution_count": null,
   "metadata": {},
   "outputs": [],
   "source": [
    "std_mon_s_hourly = monday.groupby('hour')['southbound'].std()\n",
    "print(std_mon_s_hourly)"
   ]
  },
  {
   "cell_type": "markdown",
   "metadata": {},
   "source": [
    "The large figure for standard deviation for 16:00 can be put down to unusually low traffic figures for that hour on Monday of Week 3 due to incidents on the M50 (see link https://www.dublinlive.ie/news/dublin-news/dublin-traffic-live-christchurch-incident-27919940).\n",
    "\n",
    "Similar statistics for standard deviation can be calculated for hourly Southbound and Northbound traffic for each of the seven days of the week, over the four weeks studied; the code for calculating these (without printing) is as below:"
   ]
  },
  {
   "cell_type": "code",
   "execution_count": null,
   "metadata": {},
   "outputs": [],
   "source": [
    "std_tues_s_hourly = tuesday.groupby('hour')['southbound'].std()\n",
    "std_wed_s_hourly = wednesday.groupby('hour')['southbound'].std()\n",
    "std_thurs_s_hourly = thursday.groupby('hour')['southbound'].std()\n",
    "std_fri_s_hourly = friday.groupby('hour')['southbound'].std()\n",
    "std_sat_s_hourly = saturday.groupby('hour')['southbound'].std()\n",
    "std_sun_s_hourly = sunday.groupby('hour')['southbound'].std()\n",
    "\n",
    "std_mon_n_hourly = monday.groupby('hour')['northbound'].std()\n",
    "std_tues_n_hourly = tuesday.groupby('hour')['northbound'].std()\n",
    "std_wed_n_hourly = wednesday.groupby('hour')['northbound'].std()\n",
    "std_thurs_n_hourly = thursday.groupby('hour')['northbound'].std()\n",
    "std_fri_n_hourly = friday.groupby('hour')['northbound'].std()\n",
    "std_sat_n_hourly = saturday.groupby('hour')['northbound'].std()\n",
    "std_sun_n_hourly = sunday.groupby('hour')['northbound'].std()"
   ]
  },
  {
   "cell_type": "markdown",
   "metadata": {},
   "source": [
    "We can also calculate the standard deviations for weekday and weekend traffic levels:"
   ]
  },
  {
   "cell_type": "code",
   "execution_count": null,
   "metadata": {},
   "outputs": [],
   "source": [
    "std_weekday_s_hourly = weekday.groupby('hour')['southbound'].std()\n",
    "std_weekday_n_hourly = weekday.groupby('hour')['northbound'].std()\n",
    "\n",
    "std_weekend_s_hourly = weekend.groupby('hour')['southbound'].std()\n",
    "std_weekend_n_hourly = weekend.groupby('hour')['northbound'].std()"
   ]
  },
  {
   "cell_type": "markdown",
   "metadata": {},
   "source": [
    "#### Summary of traffic distribution ####\n",
    "We can see that at the broadest level of description, traffic in both directions during all five weekdays follows a roughly similar distribution: a first peak period between 6 am and 10 am, followed by a second peak period between 2 pm and 7 pm. \n",
    "\n",
    "Bearing in mind that the hours with the busiest traffic levels for Monday are 7:00 for Southbound (level is 5915.75 ) and 16:00 for Northbound (level is 6019.75), we can see that, in general:\n",
    "- on weekdays, traffic levels peak between 3 and 5 pm, and peak traffic levels are slightly higher earlier in the week than later.\n",
    "- on weekends, traffic levels peak at slightly lower levels than during the working week.\n",
    "\n",
    "On Mondays, the busiest hour is between 7 and 8 am; perhaps this can be explained by additional people travelling back to Dublin for work and college on a Monday morning after having spent the weekend further away.\n",
    "\n",
    "For weekends, we find a very different distribution than that found for weekdays; traffic on both days peaks during the hour of 13:00, which resonates with my past experiences of travelling to Blanchardstown shopping centre at this time. However, on Sunday evening we see a steadier fall off in the second half of the day; my guess is that this is due to people returning to their accomodation in Dublin following the weekend spent down the country etc.\n",
    "\n",
    "When I create my simulated dataset later based on this dataset, I will create seperate data for weekdays and weekends, since values are distributed differently on these types of days."
   ]
  },
  {
   "cell_type": "markdown",
   "metadata": {},
   "source": [
    "### Distribution of Air Temperature data ###"
   ]
  },
  {
   "cell_type": "markdown",
   "metadata": {},
   "source": [
    "#### All temperature data ####\n",
    "We can create a plot of all temperature data; unfortunately, I haven't found a way to prevent the plot returning to zero and bringing 27 straight lines across the plot - see below. If we ignore these lines, however, we can see the general rise-and-fall pattern of temperatures on a daily basis."
   ]
  },
  {
   "cell_type": "code",
   "execution_count": null,
   "metadata": {},
   "outputs": [],
   "source": [
    "plt.figure(figsize=(12, 7))\n",
    "plt.plot(df['hour'], df['temp'], color = 'green')\n",
    "plt.xlabel('Hour of Day x:00 hrs')\n",
    "plt.xticks(np.arange(24))\n",
    "plt.ylabel('Air Temp (°C)')\n",
    "plt.title('Air Temperature (°C) - Phoenix Park - 02/10/2023 to 29/10/2023')\n",
    "plt.show()\n"
   ]
  },
  {
   "cell_type": "markdown",
   "metadata": {},
   "source": [
    "#### Temperature variation over 24 hours - examples of individual days ####\n",
    "To create some cleaner plots, we can plot air temperature for Monday of Week 2, Wednesday of Week 3 and Saturday of Week 4; this gives us a sense of what somewhat randomly selected daily air temperature data can look like. I have plotted the data on separate graphs as I found it difficult to create a y-axis to capture the full temperature range."
   ]
  },
  {
   "cell_type": "code",
   "execution_count": null,
   "metadata": {},
   "outputs": [],
   "source": [
    "monday_wk2 = df.loc[(df['day'] == 'Mon') & (df['week'] == 2)]\n",
    "wednesday_wk3 = df.loc[(df['day'] == 'Wed') & (df['week'] == 3)]\n",
    "saturday_wk4 = df.loc[(df['day'] == 'Sat') & (df['week'] == 4)]\n",
    "\n",
    "plt.figure(figsize=(8, 4.5))\n",
    "plt.plot(monday_wk2['hour'], monday_wk2['temp'], label = \"Mon week 2 temp\", color = 'green')\n",
    "plt.xlabel('Hour of Day x:00 hrs')\n",
    "plt.xticks(np.arange(24))\n",
    "plt.ylabel('Air Temp (°C)')\n",
    "plt.title('Air temperature - Monday Week 2')\n",
    "plt.show()\n",
    "\n",
    "plt.figure(figsize=(8, 4.5))\n",
    "plt.plot(wednesday_wk3['hour'], wednesday_wk3['temp'], label = \"Wed week 3 temp\", color = 'green')\n",
    "plt.xlabel('Hour of Day x:00 hrs')\n",
    "plt.xticks(np.arange(24))\n",
    "plt.ylabel('Air Temp (°C)')\n",
    "plt.title('Air temperature - Wednesday Week 3')\n",
    "plt.show()\n",
    "\n",
    "plt.figure(figsize=(8, 4.5))\n",
    "plt.plot(saturday_wk4['hour'], saturday_wk4['temp'], label = \"Sat week 2 temp\", color = 'green')\n",
    "plt.xlabel('Hour of Day x:00 hrs')\n",
    "plt.xticks(np.arange(24))\n",
    "plt.ylabel('Air Temp (°C)')\n",
    "plt.title('Air temperature - Saturday Week 4')\n",
    "plt.show()\n"
   ]
  },
  {
   "cell_type": "markdown",
   "metadata": {},
   "source": [
    "#### Average temperature for each hour over 4 week sample period ####\n",
    "It seems reasonable to me to assume that the air-temperature during a given hour of the day should be uncorrelated with the name of day, since day names are social construct created by human beings and don't have innate characteristic links to the weather, in and of themselves. Whatever the case may be with a short term sample such as the one I am analysing (where correlations could be found which are coincidental), over the long run, the incidence of certain air temperature levels during certain hours of the day should even out across the seven days of the week as so as to be uncorrelated with them. Therefore, I will not analyse temperature with regard to day of the week.\n",
    "\n",
    "A more interesting investigation might be to analyse what the average air temperature is during each hour of the day during a certain month of the year. Here, I will calculate the average air temperature for each hour over the 4 week sample of October 2023 and then plot this data; I will use the groupby function again to do this:\n",
    "\n"
   ]
  },
  {
   "cell_type": "code",
   "execution_count": null,
   "metadata": {},
   "outputs": [],
   "source": [
    "mean_hourly_temp = df.groupby('hour')['temp'].mean()\n",
    "\n",
    "print(mean_hourly_temp)"
   ]
  },
  {
   "cell_type": "markdown",
   "metadata": {},
   "source": [
    "This list of average air temperatures can be plotted:"
   ]
  },
  {
   "cell_type": "code",
   "execution_count": null,
   "metadata": {},
   "outputs": [],
   "source": [
    "plt.figure(figsize=(8,4.5))\n",
    "plt.plot(mean_hourly_temp, color = 'green')\n",
    "plt.xlabel('Hour beginning with x:00')\n",
    "plt.xticks(np.arange(24))     \n",
    "plt.ylabel('Air Temperature (°C)')\n",
    "plt.title('Mean hourly Air Temperature at Phoenix Park station 02/10/23 to 29/10/23')\n",
    "plt.show()"
   ]
  },
  {
   "cell_type": "markdown",
   "metadata": {},
   "source": [
    "#### Summary of Air Temperature data distribution ####\n",
    "We can see that during the four weeks sampled during October 2023, air temperature could be expected to reach its lowest values around 6 to 7 am and rise to its peak around miday, before dropping gradually down to it's lowest point again. Air temperature can therefore be seen to follow a pattern which repeats itself on daily basis and could possibly be modelled as a sinusoidal wave as shown below:\n",
    "\n",
    "<img src=\"https://mathematicalmysteries.files.wordpress.com/2021/11/sinewave.jpg?w=736\" alt=\"Sinusoidal wave\" width=\"600\" height=\"400\">\n"
   ]
  },
  {
   "cell_type": "markdown",
   "metadata": {},
   "source": [
    "We can also quickly generate some summary statistics for air temperature, which we can compare later to our simulated dataset."
   ]
  },
  {
   "cell_type": "code",
   "execution_count": null,
   "metadata": {},
   "outputs": [],
   "source": [
    "temp_stats = df['temp'].describe()\n",
    "\n",
    "print(temp_stats)"
   ]
  },
  {
   "cell_type": "markdown",
   "metadata": {},
   "source": [
    "In my opinion, the most interesting pieces of information here are that the temperature ranged from 1.2 degrees to 23 degrees during the 4 week period; that constitutes a range of 21.8 degrees, so an amplitude of 10.9 degrees might be used in a formula to calculate the sinusoidal wave function (amplitude divided by two). https://www.math.net/sinusoidal\n",
    "\n",
    "Note: I will not attempt to map this function to the distribution at the moment but may attempt it in future."
   ]
  },
  {
   "cell_type": "markdown",
   "metadata": {},
   "source": [
    "#### Standard deviations of hourly air temperature data ####\n",
    "\n",
    "We can calculate the extent to which air temperature varied for each hour of the day, measured relative to the mean figures for each hour over the 4-week period. This generates floating point numbers which I will not round up, as I want the figures for standard deviation to be as accurate as possible when using them to simulate my dataset further on."
   ]
  },
  {
   "cell_type": "code",
   "execution_count": null,
   "metadata": {},
   "outputs": [],
   "source": [
    "std_hourly_temp = df.groupby('hour')['temp'].std()\n",
    "print(std_hourly_temp)"
   ]
  },
  {
   "cell_type": "markdown",
   "metadata": {},
   "source": [
    "### Correlation and Regression analyses ###"
   ]
  },
  {
   "cell_type": "markdown",
   "metadata": {},
   "source": [
    "#### Correlations between Southbound and Northbound traffic ####\n",
    "We can get a picture of just how highly correlated Southbound and Northbound traffic volumes are by using the np.corrcoef function. This measures the Pearson's correlation coefficient, which is a measure of the linear relationship between two features. It’s the ratio of the covariance of x and y to the product of their standard deviations. Below is an outline of what each figure for 'r' represents and what the regression lines for different values of 'r' look like.\n",
    "\n",
    "\n",
    "<img src=\"https://logicmojo.com/assets/dist/new_pages/images/correlation-coefficient1.png\" alt=\"Correlation coefficients\" width=\"600\" height=\"400\">\n",
    "\n",
    "\n",
    " When we analyse the correlation between Southbound and Northbound traffic, we find an almost perfect correlation of r = 0.978 ie. whatever the volume of traffic is going in one direction during a certain time, there tends to be a similar volume of traffic at the same time going in the other direction."
   ]
  },
  {
   "cell_type": "code",
   "execution_count": null,
   "metadata": {},
   "outputs": [],
   "source": [
    "# Here I used [0,1] to print only the entry in the top right corner of the correlation matrix.\n",
    "# I have also rounded the printed output to three decimal places for greater clarity.\n",
    "\n",
    "corr_s_n = np.corrcoef(df['southbound'], df['northbound'])[0,1]\n",
    "print(f'The Pearson correlation coefficient between Southbound and Northbound traffic is {round(corr_s_n, 3)}.')"
   ]
  },
  {
   "cell_type": "markdown",
   "metadata": {},
   "source": [
    "We can create a scatterplot using Seaborn to illustrate the strong correlation of Southbound and Northbound traffic:"
   ]
  },
  {
   "cell_type": "code",
   "execution_count": null,
   "metadata": {},
   "outputs": [],
   "source": [
    "sns.regplot(x='southbound', y='northbound', data = df, color = 'brown')\n",
    "\n",
    "plt.xlabel('Southbound traffic')\n",
    "plt.ylabel('Northbound traffic')\n",
    "plt.title('Hourly Southbound vs Northbound traffic from 02/10/23 to 29/10/23')\n",
    "\n",
    "# Show the plot\n",
    "plt.show()"
   ]
  },
  {
   "cell_type": "markdown",
   "metadata": {},
   "source": [
    "\n",
    "#### Correlations between traffic levels and Air Temperature ####\n",
    "\n",
    "I was curious to test what relationship might exist between the weather and traffic levels. To test this, I obtained hourly weather information for the nearby Phoenix Park weather station for the month of October. \n",
    "\n",
    "I had initially hoped to test the relationship of rain levels to traffic, as I know from experience that driving on the m50 in heavy rainy is something that I would avoid if possible. However, I found that  most hours did not have any rainfall associated with them, and this meant it would be harder to draw a conclusion about the impact of rainfall on traffic levels. Instead, I decided to test the correlation between temperature levels (in degrees Celsisus) and traffic levels. "
   ]
  },
  {
   "cell_type": "code",
   "execution_count": null,
   "metadata": {},
   "outputs": [],
   "source": [
    "corr_s_temp = np.corrcoef(df['southbound'], df['temp'])[0,1]\n",
    "\n",
    "corr_n_temp = np.corrcoef(df['northbound'], df['temp'])[0,1]\n",
    "\n",
    "print(round(corr_s_temp, 3))\n",
    "print(round(corr_n_temp, 3))"
   ]
  },
  {
   "cell_type": "markdown",
   "metadata": {},
   "source": [
    "Here we find a weak positive correlation between local air temperature and road traffic levels of around 0.34 for both directions. While correlation does not imply causation, it is conceivable to me that, all else being equal, when the weather is more pleasant (in an October context, this might mean less cold than usual), people might be more inclined to leave the house and use the M50, especially on a weekend day when fewer people need to drive to work and the decision to drive is optional."
   ]
  },
  {
   "cell_type": "markdown",
   "metadata": {},
   "source": [
    "We can also plot scatterplots of air temperature against southbound and northbound traffic:"
   ]
  },
  {
   "cell_type": "code",
   "execution_count": null,
   "metadata": {},
   "outputs": [],
   "source": [
    "sns.set_theme(style = \"white\")\n",
    "sns.set_palette(\"bright\") \n",
    "\n",
    "sns.regplot(x='temp', y='southbound', data = df, color = 'gold')\n",
    "\n",
    "plt.xlabel('Air Temperature (°C)')\n",
    "plt.ylabel('Southbound traffic')\n",
    "plt.title('Correlation between Air Temperature and Southbound traffic: 02/10/23 to 29/10/23')\n",
    "\n",
    "# Show the plot\n",
    "plt.show()"
   ]
  },
  {
   "cell_type": "code",
   "execution_count": null,
   "metadata": {},
   "outputs": [],
   "source": [
    "sns.regplot(x='temp', y='northbound', data = df, color = 'gold')\n",
    "\n",
    "plt.xlabel('Air Temperature (°C)')\n",
    "plt.ylabel('Northbound traffic')\n",
    "plt.title('Correlation between Air Temperature and Northbound traffic: 02/10/23 to 29/10/23')\n",
    "\n",
    "# Show the plot\n",
    "plt.show()"
   ]
  },
  {
   "cell_type": "markdown",
   "metadata": {},
   "source": [
    "We can test further to see if the correlation of air temperature with traffic differs according to whether it is a weekday or weekend:"
   ]
  },
  {
   "cell_type": "code",
   "execution_count": null,
   "metadata": {},
   "outputs": [],
   "source": [
    "corr_s_weekday_temp = np.corrcoef(weekday['southbound'], weekday['temp'])[0,1]\n",
    "corr_n_weekday_temp = np.corrcoef(weekday['northbound'], weekday['temp'])[0,1]\n",
    "\n",
    "corr_s_weekend_temp = np.corrcoef(weekend['northbound'], weekend['temp'])[0,1]\n",
    "corr_n_weekend_temp = np.corrcoef(weekend['southbound'], weekend['temp'])[0,1]\n",
    "\n",
    "print(f'The Pearson correlation coefficients between traffic and air temperature by direction and day type are as follows:')\n",
    "print()\n",
    "print(f'Weekday Southbound traffic and air temperature: {round(corr_s_weekday_temp, 3)}')\n",
    "print(f'Weekday Northbound traffic and air temperature: {round(corr_n_weekday_temp, 3)}')\n",
    "print()\n",
    "print(f'Weekend Southbound traffic and air temperature: {round(corr_s_weekend_temp, 3)}')\n",
    "print(f'Weekend Northbound traffic and air temperature: {round(corr_n_weekend_temp, 3)}')\n"
   ]
  },
  {
   "cell_type": "markdown",
   "metadata": {},
   "source": [
    "These figures indicate that the correlation between air temperature and traffic volumes are higher on the weekend; this is a satisfying result, since it is in agreement with the idea that when people have less of a choice over whether or not they must leave the house (ie. when they need to travel to work on weekdays), unpleasant weather is less likely to impact on their decision to drive."
   ]
  },
  {
   "cell_type": "markdown",
   "metadata": {},
   "source": [
    "\n",
    "#### Regression equation ####\n",
    "The **regression equations** for the relationship between air temperature and traffic levels can be created using scipy.stats and the linregress function:"
   ]
  },
  {
   "cell_type": "code",
   "execution_count": null,
   "metadata": {},
   "outputs": [],
   "source": [
    "reg_temp_s = ss.linregress(df['temp'], df['southbound']) \n",
    "\n",
    "reg_temp_n = ss.linregress(df['temp'], df['northbound']) \n",
    "\n",
    "print(reg_temp_s)\n",
    "print(reg_temp_n)\n"
   ]
  },
  {
   "cell_type": "markdown",
   "metadata": {},
   "source": [
    "The general form of a regression equation is y = mx + c, where m is the slope and x is the intercept of the regression line with the y-axis.\n",
    "\n",
    "In this case, the regression equation predicting the number of vehicles travelling southbound, y, given the temperature in degrees celsisus, x, is approximately:\n",
    "\n",
    "    y = 169.76x + 1352.66 \n",
    "\n",
    "The equation to predict the number of cars travelling northbound, given the temperature, is:\n",
    "\n",
    "    y = 176.21x + 1249.95"
   ]
  },
  {
   "cell_type": "markdown",
   "metadata": {},
   "source": [
    "#### Side-by-side comparison of distributions ####\n",
    "To examine the relationships between 'temp' and 'southbound' variables for a sample day (Monday Week 1), we can create a plot with two y-axes:"
   ]
  },
  {
   "cell_type": "code",
   "execution_count": null,
   "metadata": {},
   "outputs": [],
   "source": [
    "# this creates a plot capable of displaying more than one subplot\n",
    "# https://python-graph-gallery.com/line-chart-dual-y-axis-with-matplotlib/#:~:text=It%20uses%20ax.,Y%20axis%20on%20this%20twin.\n",
    "\n",
    "fig, ax1 = plt.subplots(figsize=(10, 5.5))\n",
    "\n",
    "# This creates a second y-axis which shares the same x-axis as the first y-axis\n",
    "ax2 = ax1.twinx()\n",
    "\n",
    "# Plot for southbound traffic on the primary y-axis\n",
    "ax1.plot(monday_wk1['hour'], monday_wk1['southbound'], color='blue', label='Southbound Mon Wk 1')\n",
    "ax1.set_xlabel('Hour')\n",
    "ax1.set_ylabel('Southbound Traffic', color='blue')\n",
    "ax1.tick_params(axis='y', colors='blue')   \n",
    "\n",
    "# Plot for temperature on secondary y-axis\n",
    "ax2.plot(monday_wk1['hour'], monday_wk1['temp'], color='green', label='Temperature Mon Wk 1')\n",
    "ax2.set_ylabel('Temperature (°C)', color='green')\n",
    "ax2.tick_params(axis='y', colors='green')\n",
    "\n",
    "plt.title('Southbound Traffic and Temperature per Hour')\n",
    "plt.xticks(np.arange(24))   \n",
    "plt.grid(True)    # This plots a grid which makes it easier to compare both sets of data\n",
    "plt.show()"
   ]
  },
  {
   "cell_type": "markdown",
   "metadata": {},
   "source": [
    "### Synthesising datasets ###"
   ]
  },
  {
   "cell_type": "markdown",
   "metadata": {},
   "source": [
    "#### Synthetic datasets of traffic data ####\n",
    "\n",
    "To create synthetic datasets of traffic data for **one day**, I will use the mean and standard deviations for the hourly Southbound and Northbound data obtained above for **weekdays** and **weekends** and use np.random to create plausable sets of datapoints for a weekday and a weekend day. The reason I want to create seperate datasets for weekdays and weekends is that I found the distributions of traffic to be quite different depending on this variable (day_type).\n",
    "\n",
    "I will then compare the distributions and properties of the synthetic datasets to the distributions obtained for the real weekday and weekend data from Week 1 to Week 4.\n",
    "\n",
    "I will firstly create synthetic hourly data for **Southbound traffic** on a **weekday**: "
   ]
  },
  {
   "cell_type": "code",
   "execution_count": null,
   "metadata": {},
   "outputs": [],
   "source": [
    "# To begin, I will generate a list of twenty-four normally distributed random numbers, each representing synthetic data for one hour:\n",
    "# the loc and scale are the datapoints for mean and standard deviation of the weekday southbound hourly data calculated earlier:\n",
    "synth_weekday_s_hourly = np.random.normal(loc=mean_weekday_s_hourly, scale=std_weekday_s_hourly, size=24)\n",
    "\n",
    "# print(synth_weekday_s_hourly)\n",
    "\n",
    "# Next, I will create a new dataframe containing the synthetic data, including in it a column for the 24 hours, \n",
    "# synthetic southbound traffic data, and day_type, which is 'weekday' here. I will us pd.DataFrame() to do this.\n",
    "\n",
    "df_synth_weekday_s_hourly = pd.DataFrame({'hour': range(24), 'southbound': synth_weekday_s_hourly, 'day_type': 'weekday'})\n",
    "\n",
    "# Next I can add an additional column to this dataframe which includes additional noise on top of the first set of synthetic data.\n",
    "# we can adjust the amount of noise added to this column by altering the value of the 'noise' parameter:\n",
    "\n",
    "# Since the lowest figure for traffic for mean average Southbound traffic is 317.10 (occuring at 3 am), I do not want to have a\n",
    "# noise paramter which could bring the figure beneath zero for the 3 am hour, which could happen if the non-noisy datapoint was\n",
    "# particularly distant from its mean and then additional noise made it even smaller. To be conservative, I will use a figure of 200 vehicles.\n",
    "noise = 200     \n",
    "\n",
    "df_synth_weekday_s_hourly['southbound_with_noise'] = df_synth_weekday_s_hourly['southbound'] + np.random.normal(loc=0, scale=noise, size=24)\n",
    "\n",
    "print('Synthetic Dataset for Southbound Traffic on Weekdays:')\n",
    "print()\n",
    "print(df_synth_weekday_s_hourly)\n"
   ]
  },
  {
   "cell_type": "markdown",
   "metadata": {},
   "source": [
    "I can now plot the two synthetic datasets for Weekday Southbound traffic side by side to examine the impact of the added noise:"
   ]
  },
  {
   "cell_type": "code",
   "execution_count": null,
   "metadata": {},
   "outputs": [],
   "source": [
    "plt.figure(figsize=(8,4.5))\n",
    "plt.plot(df_synth_weekday_s_hourly['southbound'], label = 'Southbound', color = 'blue')\n",
    "plt.plot(df_synth_weekday_s_hourly['southbound_with_noise'], label = 'Southbound with noise', color = 'red')\n",
    "plt.xlabel('Hour beginning with x:00')\n",
    "plt.xticks(np.arange(24))     \n",
    "plt.ylabel('Number of Vehicles during hour')\n",
    "plt.title('Synthetic mean hourly Southbound traffic passing through Junction 6 on Weekdays')\n",
    "plt.legend([\"Southbound\", \"Southbound with noise\"], loc =\"upper right\", prop={'size': 8})       # adjust size of legend\n",
    "plt.show()"
   ]
  },
  {
   "cell_type": "markdown",
   "metadata": {},
   "source": [
    "Next I create and plot the same two sets of data for **Weekday Northbound traffic**:"
   ]
  },
  {
   "cell_type": "code",
   "execution_count": null,
   "metadata": {},
   "outputs": [],
   "source": [
    "synth_weekday_n_hourly = np.random.normal(loc=mean_weekday_n_hourly, scale=std_weekday_n_hourly, size=24)\n",
    "\n",
    "df_synth_weekday_n_hourly = pd.DataFrame({'hour': range(24), 'northbound': synth_weekday_n_hourly, 'day_type': 'weekday'})\n",
    "\n",
    "noise = 200\n",
    "df_synth_weekday_n_hourly['northbound_with_noise'] = df_synth_weekday_n_hourly['northbound'] + np.random.normal(loc=0, scale=noise, size=24)\n",
    "\n",
    "print('Synthetic Dataset for Northbound Traffic on Weekdays:')\n",
    "print()\n",
    "print(df_synth_weekday_n_hourly)\n",
    "\n",
    "plt.figure(figsize=(8,4.5))\n",
    "plt.plot(df_synth_weekday_n_hourly['northbound'], label = 'Northbound', color = \"orange\")\n",
    "plt.plot(df_synth_weekday_n_hourly['northbound_with_noise'], label = 'Northbound with noise', color = 'red')\n",
    "plt.xlabel('Hour beginning with x:00')\n",
    "plt.xticks(np.arange(24))     \n",
    "plt.ylabel('Number of Vehicles during hour')\n",
    "plt.title('Synthetic mean hourly Northbound traffic passing through Junction 6 on Weekdays')\n",
    "plt.legend([\"Northbound\", \"Northbound with noise\"], loc =\"upper right\", prop={'size': 8})\n",
    "plt.show()"
   ]
  },
  {
   "cell_type": "markdown",
   "metadata": {},
   "source": [
    "The corresponding datasets and plots for the **Weekend Southbound** and **Weekend Northbound** traffic data are created below using similar code:"
   ]
  },
  {
   "cell_type": "code",
   "execution_count": null,
   "metadata": {},
   "outputs": [],
   "source": [
    "synth_weekend_s_hourly = np.random.normal(loc=mean_weekend_s_hourly, scale=std_weekend_s_hourly, size=24)\n",
    "\n",
    "df_synth_weekend_s_hourly = pd.DataFrame({'hour': range(24), 'southbound': synth_weekend_s_hourly, 'day_type': 'weekend'})\n",
    "\n",
    "noise = 200  \n",
    "# for weekend traffic, a noise factor of 200 vehicles can sometimes lead to a minus figure for average number of vehicles\n",
    "# for the early hours of the morning.\n",
    "# I want to retain this level of noise, however, since reducing it will reduce the impact of noise elsewhere in the dataset and make\n",
    "# it too similar to the non-noisy dataset\n",
    "\n",
    "df_synth_weekend_s_hourly['southbound_with_noise'] = df_synth_weekend_s_hourly['southbound'] + np.random.normal(loc=0, scale=noise, size=24)\n",
    "\n",
    "print('Synthetic Dataset for Southbound Traffic on Weekends:')\n",
    "print()\n",
    "print(df_synth_weekend_s_hourly)\n",
    "\n",
    "plt.figure(figsize=(8,4.5))\n",
    "plt.plot(df_synth_weekend_s_hourly['southbound'], label = 'Southbound', color = 'blue')\n",
    "plt.plot(df_synth_weekend_s_hourly['southbound_with_noise'], label = 'Southbound with noise', color = 'red')\n",
    "plt.xlabel('Hour beginning with x:00')\n",
    "plt.xticks(np.arange(24))     \n",
    "plt.ylabel('Number of Vehicles during hour')\n",
    "plt.title('Synthetic mean hourly Southbound traffic passing through Junction 6 on Weekends')\n",
    "plt.legend([\"Southbound\", \"Southbound with noise\"], loc =\"upper right\", prop={'size': 8})\n",
    "plt.show()"
   ]
  },
  {
   "cell_type": "code",
   "execution_count": null,
   "metadata": {},
   "outputs": [],
   "source": [
    "synth_weekend_n_hourly = np.random.normal(loc=mean_weekend_n_hourly, scale=std_weekend_n_hourly, size=24)\n",
    "\n",
    "df_synth_weekend_n_hourly = pd.DataFrame({'hour': range(24), 'northbound': synth_weekend_n_hourly, 'day_type': 'weekend'})\n",
    "\n",
    "noise = 200\n",
    "df_synth_weekend_n_hourly['northbound_with_noise'] = df_synth_weekend_n_hourly['northbound'] + np.random.normal(loc=0, scale=noise, size=24)\n",
    "\n",
    "print('Synthetic Dataset for Northbound Traffic on Weekends:')\n",
    "print()\n",
    "print(df_synth_weekend_n_hourly)\n",
    "\n",
    "plt.figure(figsize=(8,4.5))\n",
    "plt.plot(df_synth_weekend_n_hourly['northbound'], label = 'Northbound', color = 'orange')\n",
    "plt.plot(df_synth_weekend_n_hourly['northbound_with_noise'], label = 'Northbound with noise', color = 'red')\n",
    "plt.xlabel('Hour beginning with x:00')\n",
    "plt.xticks(np.arange(24))     \n",
    "plt.ylabel('Number of Vehicles during hour')\n",
    "plt.title('Synthetic mean hourly Northbound traffic passing through Junction 6 on Weekends')\n",
    "plt.legend([\"Northbound\", \"Northbound with noise\"], loc =\"upper right\", prop={'size': 8})\n",
    "plt.show()"
   ]
  },
  {
   "cell_type": "markdown",
   "metadata": {},
   "source": [
    "#### Synthetic dataset of air temperature data ####\n",
    "\n",
    "As there ought not to be a meaningful correlation between average hourly air temperature and the day of the week, we can create our synthetic dataset for air temperature using the dataset for mean_hourly_temp and the figures for standard deviation for air temperature from earlier. Since this synthetic data was created from temperature data from the Phoenix Park between 02/10/2023 and 29/10/2023, it might be considered a plausable dataset of air temperature for a day in October in the North Dublin region."
   ]
  },
  {
   "cell_type": "code",
   "execution_count": null,
   "metadata": {},
   "outputs": [],
   "source": [
    "synth_hourly_temp = np.random.normal(loc=mean_hourly_temp, scale=std_hourly_temp, size=24)\n",
    "\n",
    "df_synth_hourly_temp = pd.DataFrame({'hour': range(24), 'temp': synth_hourly_temp})\n",
    "\n",
    "noise = 1.5  \n",
    "# Here I have added a noise factor of 1.5 degrees celsius, as the standard deviation for each hour is between 3 and 4 degrees, \n",
    "# so a further 1.5 degrees of noise seems like a reasonable amount.\n",
    "df_synth_hourly_temp['temp_with_noise'] = df_synth_hourly_temp['temp'] + np.random.normal(loc=0, scale=noise, size=24)\n",
    "\n",
    "print('Synthetic Dataset for Mean Air Temperature:')\n",
    "print()\n",
    "print(df_synth_hourly_temp)\n",
    "\n",
    "plt.figure(figsize=(8,4.5))\n",
    "plt.plot(df_synth_hourly_temp['temp'], label = 'Temperature', color = 'green')\n",
    "plt.plot(df_synth_hourly_temp['temp_with_noise'], label = 'Temperature with noise', color = 'red')\n",
    "plt.xlabel('Hour beginning with x:00')\n",
    "plt.xticks(np.arange(24))     \n",
    "plt.ylabel('Air Temperature (°C)')\n",
    "plt.title('Synthetic mean hourly Air temperature for October')\n",
    "plt.legend([\"Temperature\", \"Temperature with noise\"], loc =\"upper right\", prop={'size': 8})\n",
    "plt.show()"
   ]
  },
  {
   "cell_type": "markdown",
   "metadata": {},
   "source": [
    "These two synthetic datasets for air temperature seems \"spikier\" than the synthetic datasets for traffic, since a change of a few degrees in either direction over the course of an hour can represent a much larger shift on the plot than a change of a few hundred vehicles in either direction on the traffic plot.\n",
    "\n",
    "I also believe that my model requires some refining; as things stand, the model allows for unrealistic swings in temperature over the course of a few hours. I imagine that the temperature at a given hour has a stronger correlation with the temperature of the preceding hour than the hour previous to that, with the importance of past temperature diminishing the further back you go; an improved model could account for this possibility. \n",
    "\n",
    "A sinusoidal model is also a possiblity, as I mentioned earlier, as temperature seems to fluctuate in a rythmic cycle from one day to the next.\n",
    "\n"
   ]
  },
  {
   "cell_type": "markdown",
   "metadata": {},
   "source": [
    "#### Correlation and regression analyses of synthetic datasets ####\n",
    "\n",
    "We can now analyse how traffic levels in each direction from the synthetic datasets correlate with one another, and how levels of traffic in each direction correlate with air temperature.\n",
    "\n",
    "I will first test the correlation of synthetic Southbound and Northbound **traffic data** for **weekdays** (for both non-noisy and noisy datasets):"
   ]
  },
  {
   "cell_type": "code",
   "execution_count": null,
   "metadata": {},
   "outputs": [],
   "source": [
    "synth_corr_s_n_weekday = np.corrcoef(df_synth_weekday_s_hourly['southbound'], df_synth_weekday_n_hourly['northbound'])[0,1]\n",
    "noisy_synth_corr_s_n_weekday = np.corrcoef(df_synth_weekday_s_hourly['southbound_with_noise'], df_synth_weekday_n_hourly['northbound_with_noise'])[0,1]\n",
    "\n",
    "print(f'The Pearson correlation coefficient between a synthetic 24-hour dataset of Southbound and Northbound weekday traffic is {round(synth_corr_s_n_weekday, 3)}.')\n",
    "print(f'The Pearson correlation coefficient between a noisy synthetic 24-hour dataset of Southbound and Northbound weekday traffic is {round(noisy_synth_corr_s_n_weekday, 3)}.')"
   ]
  },
  {
   "cell_type": "markdown",
   "metadata": {},
   "source": [
    "The correlations for the synthetic **weekend** traffic data are:"
   ]
  },
  {
   "cell_type": "code",
   "execution_count": null,
   "metadata": {},
   "outputs": [],
   "source": [
    "synth_corr_s_n_weekend = np.corrcoef(df_synth_weekend_s_hourly['southbound'], df_synth_weekend_n_hourly['northbound'])[0,1]\n",
    "noisy_synth_corr_s_n_weekend = np.corrcoef(df_synth_weekend_s_hourly['southbound_with_noise'], df_synth_weekend_n_hourly['northbound_with_noise'])[0,1]\n",
    "\n",
    "print(f'The Pearson correlation coefficient between a synthetic 24-hour dataset of Southbound and Northbound weekend traffic is {round(synth_corr_s_n_weekend, 3)}.')\n",
    "print(f'The Pearson correlation coefficient between a noisy synthetic 24-hour dataset of Southbound and Northbound weekend traffic is {round(noisy_synth_corr_s_n_weekend, 3)}.')\n"
   ]
  },
  {
   "cell_type": "markdown",
   "metadata": {},
   "source": [
    "Having run the code a few times, I see the degree of correlation of the datasets changing each time; sometimes the weekday southbound and northbound data are more strongly correlated than the weekend, and vice versa. Regardless, the degree of correlation remains very close to one (perfect correlation) in all cases."
   ]
  },
  {
   "cell_type": "markdown",
   "metadata": {},
   "source": [
    "The correlations between synthetic **air temperature data** and synthetic **traffic data** are calculated below:"
   ]
  },
  {
   "cell_type": "code",
   "execution_count": null,
   "metadata": {},
   "outputs": [],
   "source": [
    "synth_corr_weekday_s_temp = np.corrcoef(df_synth_weekday_s_hourly['southbound'], df_synth_hourly_temp['temp'])[0,1]\n",
    "noisy_synth_corr_weekday_s_temp = np.corrcoef(df_synth_weekday_s_hourly['southbound_with_noise'], df_synth_hourly_temp['temp_with_noise'])[0,1]\n",
    "\n",
    "synth_corr_weekday_n_temp = np.corrcoef(df_synth_weekday_n_hourly['northbound'], df_synth_hourly_temp['temp'])[0,1]\n",
    "noisy_synth_corr_weekday_n_temp = np.corrcoef(df_synth_weekday_n_hourly['northbound_with_noise'], df_synth_hourly_temp['temp_with_noise'])[0,1]\n",
    "\n",
    "synth_corr_weekend_s_temp = np.corrcoef(df_synth_weekend_s_hourly['southbound'], df_synth_hourly_temp['temp'])[0,1]\n",
    "noisy_synth_corr_weekend_s_temp = np.corrcoef(df_synth_weekend_s_hourly['southbound_with_noise'], df_synth_hourly_temp['temp_with_noise'])[0,1]\n",
    "\n",
    "synth_corr_weekend_n_temp = np.corrcoef(df_synth_weekend_n_hourly['northbound'], df_synth_hourly_temp['temp'])[0,1]\n",
    "noisy_synth_corr_weekend_n_temp = np.corrcoef(df_synth_weekend_n_hourly['northbound_with_noise'], df_synth_hourly_temp['temp_with_noise'])[0,1]\n",
    "\n",
    "print(f'The Pearson correlation coefficient between a synthetic 24-hour dataset of weekday Southbound traffic and air temperature is {round(synth_corr_weekday_s_temp, 3)}.')\n",
    "print(f'The Pearson correlation coefficient between a noisy synthetic 24-hour dataset of weekday Southbound traffic and air temperature is {round(noisy_synth_corr_weekday_s_temp, 3)}.')\n",
    "print()\n",
    "print(f'The Pearson correlation coefficient between a synthetic 24-hour dataset of weekday Northbound traffic and air temperature is {round(synth_corr_weekday_n_temp, 3)}.')\n",
    "print(f'The Pearson correlation coefficient between a noisy synthetic 24-hour dataset of weekday Northbound traffic and air temperature is {round(noisy_synth_corr_weekday_n_temp, 3)}.')\n",
    "print()\n",
    "print(f'The Pearson correlation coefficient between a synthetic 24-hour dataset of weekend Southbound traffic and air temperature is {round(synth_corr_weekend_s_temp, 3)}.')\n",
    "print(f'The Pearson correlation coefficient between a noisy synthetic 24-hour dataset of weekend Southbound traffic and air temperature is {round(noisy_synth_corr_weekend_s_temp, 3)}.')\n",
    "print()\n",
    "print(f'The Pearson correlation coefficient between a synthetic 24-hour dataset of weekend Northbound traffic and air temperature is {round(synth_corr_weekend_n_temp, 3)}.')\n",
    "print(f'The Pearson correlation coefficient between a noisy synthetic 24-hour dataset of weekend Northbound traffic and air temperature is {round(noisy_synth_corr_weekend_n_temp, 3)}.')\n",
    "\n",
    "\n"
   ]
  },
  {
   "cell_type": "markdown",
   "metadata": {},
   "source": [
    "As was the case for the original dataset, we find that there is a stronger correlation between weekend traffic levels and air temperature than there is with weekday traffic."
   ]
  },
  {
   "cell_type": "markdown",
   "metadata": {},
   "source": [
    "The **regression equation** capturing the relationship between the synthetic air temperature and synthetic traffic datasets (non-noisy regressed against non-noisy, and noisy regressed against noisy) can be calculated using the code below:"
   ]
  },
  {
   "cell_type": "code",
   "execution_count": null,
   "metadata": {},
   "outputs": [],
   "source": [
    "synth_reg_temp_s = ss.linregress(df_synth_hourly_temp['temp'], df_synth_weekend_s_hourly['southbound']) \n",
    "noisy_synth_reg_temp_s = ss.linregress(df_synth_hourly_temp['temp_with_noise'], df_synth_weekend_s_hourly['southbound_with_noise']) \n",
    "\n",
    "synth_reg_temp_n = ss.linregress(df_synth_hourly_temp['temp'], df_synth_weekend_n_hourly['northbound']) \n",
    "noisy_synth_reg_temp_n = ss.linregress(df_synth_hourly_temp['temp_with_noise'], df_synth_weekend_n_hourly['northbound_with_noise']) \n",
    "\n",
    "print(synth_reg_temp_s)\n",
    "print(noisy_synth_reg_temp_s) \n",
    "\n",
    "print(synth_reg_temp_n)\n",
    "print(noisy_synth_reg_temp_n) "
   ]
  },
  {
   "cell_type": "markdown",
   "metadata": {},
   "source": [
    "### Summary ###\n"
   ]
  },
  {
   "cell_type": "markdown",
   "metadata": {},
   "source": [
    "### References ###"
   ]
  },
  {
   "cell_type": "markdown",
   "metadata": {},
   "source": [
    "**Introduction**\n",
    "\n",
    "1.\t(author/s unknown) (n.d) *Tabular Calendar*. Trafficdata.tii.ie. Retrieved 19th November 2023 from https://trafficdata.tii.ie/calendar_alt.asp?sgid=XZOA8M4LR27P0HAO3_SRSB&spid=130DE8EB2080 \n",
    "\n",
    "2.\t(author/s unknown) (n.d) *Phoenix Park Hourly Data*. Data.gov.ie. Retrieved 19th November 2023 from https://data.gov.ie/dataset/phoenix-park-hourly-data\n",
    "\n",
    "3.\t(author/s unknown) n.d. *HTML <img> Tag*. W3schools.com. Retrieved 2nd December 2023 from https://www.w3schools.com/tags/tag_img.asp\n",
    "\n",
    "\n",
    "**Pre-analyses:**\n",
    "\n",
    "4.\t(author/s unknown) n/d. *Python Pandas - Categorical Data* Tutorialspoint.com. Retrieved 3rd December 2023 from https://www.tutorialspoint.com/python_pandas/python_pandas_categorical_data.htm\n",
    "\n",
    "\n",
    "**Summary of variables in dataset:**\n",
    "\n",
    "5.\t(author/s unknown) n/d *pandas.DataFrame.dtypes* Pandas.pydata.org. Retrieved 3rd December 2023 from https://pandas.pydata.org/pandas-docs/stable/reference/api/pandas.DataFrame.dtypes.html\n",
    "\n",
    "\n",
    "**Distribution of Southbound and Northbound traffic data:**\n",
    "\n",
    "6.\t(“unutbu”) 26th September 2012. *Changing the tick frequency on the x or y axis*. Stackoverflow.com. Retrieved 2nd December 2023 from https://stackoverflow.com/questions/12608788/changing-the-tick-frequency-on-the-x-or-y-axis\n",
    "\n",
    "7.\t(author/s unknown) (n.d) *Group by: split-apply-combine*. Pandas.pydata.org. Retrieved 2nd December 2023 from https://pandas.pydata.org/pandas-docs/stable/user_guide/groupby.html#splitting-an-object-into-groups\n",
    "\n",
    "8.\t(author/s unknown) (n.d) *Pandas DataFrame idxmax() Method*. w3schools.com. Retrieved 2nd December 2023 from https://www.w3schools.com/python/pandas/ref_df_idxmax.asp\n",
    "\n",
    "9.\t(“shardul_singh_tomar”) 12th April 2020. *Matplotlib.pyplot.legend() in Python* Geeksforgeeks.com. Retrieved 2nd December 2023 from https://www.geeksforgeeks.org/matplotlib-pyplot-legend-in-python/\n",
    "\n",
    "\n",
    "**Distribution of Air Temperature data:**\n",
    "\n",
    "10.\t(Author/s unknown) n/d.*Sine Wave*. mathematicalmysteries.org. Retrieved 3rd December 2023 from https://mathematicalmysteries.files.wordpress.com/2021/11/sinewave.jpg?w=736\n",
    "\n",
    "11.\t(author/s unknown) n/d. *Sinusoidal*. Math.net. Retrieved 3rd December 2023 from https://www.math.net/sinusoidal\n",
    "\n",
    "\n",
    "**Correlation and Regression analyses:**\n",
    "\n",
    "12.\t(author/s unknown) n/d. *Pearson correlation coefficient* Wikipedia.org. Retrieved 3rd December from https://en.wikipedia.org/wiki/Pearson_correlation_coefficient\n",
    "\n",
    "13.\t(Ahsan Mahmood) 7th December 2016. *'Proper' rounding in Python, to 3 decimal places*. Stackoverflow.com. Retrieved 2nd December 2023 from https://stackoverflow.com/questions/41020797/proper-rounding-in-python-to-3-decimal-places\n",
    "\n",
    "14.\t(author/s unknown) n/d. *seaborn.regplot*Seaborn.pydata.org. Retrieved 3rd December 2023 from https://seaborn.pydata.org/generated/seaborn.regplot.html\n",
    "\n",
    "15.\t(Mirko Stojiljković) n/d. *Example: NumPy Correlation Calculation*. Realpython.com. Retrieved 2nd December 2023 from https://realpython.com/numpy-scipy-pandas-correlation-python/#example-numpy-correlation-calculation\n",
    "\n",
    "16.\t(“jonchar”) 8th December 2015. *Why do many examples use `fig, ax = plt.subplots()`*. Stackoverflow.com. Retrieved 2nd December 2023 from https://stackoverflow.com/questions/34162443/why-do-many-examples-use-fig-ax-plt-subplots\n",
    "\n",
    "17.\t(Yan Holtz) n/d. *Dual Y axis with Python and Matplotlib*. Python-graph-gallery.com. Retrieved 2nd December 2023 from https://python-graph-gallery.com/line-chart-dual-y-axis-with-matplotlib/#:~:text=It%20uses%20ax.,Y%20axis%20on%20this%20twin\n",
    "\n",
    "18.\t(Author/s unknown) n/d. *scipy.stats.linregress*.Retrieved 2nd December 2023 from https://docs.scipy.org/doc/scipy/reference/generated/scipy.stats.linregress.html\n",
    "\n",
    "19.\t(“Logicmojo”) 18th May 2023. *Correlation coefficient*. Logicmojo.com. Retrieved 3rd December 2023 from https://logicmojo.com/assets/dist/new_pages/images/correlation-coefficient1.png21. \n",
    "\n",
    "20.\t(author/s unknown) n/d. *matplotlib.axes.Axes.tick_params*. Matplotlib.org. Retrieved 2nd December 2023 from https://matplotlib.org/stable/api/_as_gen/matplotlib.axes.Axes.tick_params.html\n",
    "\n",
    "\n",
    "**Synthesising datasets:**\n",
    "\n",
    "21.\t(author/s unknown) n/d. *numpy.random.normal*. Numpy.org. Retrieved 2nd December 2023 from https://numpy.org/doc/stable/reference/random/generated/numpy.random.normal.html\n",
    "\n",
    "22.\t(“Yann”) 19th August 2011. *How to change legend fontsize with matplotlib.pyplot*. Stackoverflow.com. Retrieved 3rd December from https://stackoverflow.com/questions/7125009/how-to-change-legend-fontsize-with-matplotlib-pyplot\n"
   ]
  }
 ],
 "metadata": {
  "kernelspec": {
   "display_name": "base",
   "language": "python",
   "name": "python3"
  },
  "language_info": {
   "codemirror_mode": {
    "name": "ipython",
    "version": 3
   },
   "file_extension": ".py",
   "mimetype": "text/x-python",
   "name": "python",
   "nbconvert_exporter": "python",
   "pygments_lexer": "ipython3",
   "version": "3.11.4"
  }
 },
 "nbformat": 4,
 "nbformat_minor": 2
}
